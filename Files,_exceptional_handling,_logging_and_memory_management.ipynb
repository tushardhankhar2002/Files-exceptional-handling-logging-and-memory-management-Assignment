{
  "nbformat": 4,
  "nbformat_minor": 0,
  "metadata": {
    "colab": {
      "provenance": []
    },
    "kernelspec": {
      "name": "python3",
      "display_name": "Python 3"
    },
    "language_info": {
      "name": "python"
    }
  },
  "cells": [
    {
      "cell_type": "markdown",
      "source": [
        "**Files, exceptional handling, logging and\n",
        "memory management Questions**\n",
        "\n"
      ],
      "metadata": {
        "id": "KEjTpAjOXA0E"
      }
    },
    {
      "cell_type": "markdown",
      "source": [
        "\n",
        "**Question 1) What is the difference between interpreted and compiled languages?**  \n",
        "**Answer:** Interpreted languages execute code line by line without prior conversion, while compiled languages convert the entire code to machine language before execution.\n",
        "\n",
        "**Question 2) What is exception handling in Python?**  \n",
        "**Answer:** Exception handling is a mechanism to manage errors during program execution to prevent crashes.\n",
        "\n",
        "**Question 3) What is the purpose of the finally block in exception handling?**  \n",
        "**Answer:** The finally block ensures certain code runs regardless of whether an exception occurs or not.\n",
        "\n",
        "**Question 4) What is logging in Python?**  \n",
        "**Answer:** Logging is the process of recording events that happen during program execution for debugging and monitoring.\n",
        "\n",
        "**Question 5) What is the significance of the __del__ method in Python?**  \n",
        "**Answer:** The __del__ method is called when an object is about to be destroyed, allowing for cleanup actions.\n",
        "\n",
        "**Question 6) What is the difference between import and from ... import in Python?**  \n",
        "**Answer:** Import brings in an entire module, while from ... import brings in specific parts of a module.\n",
        "\n",
        "**Question 7) How can you handle multiple exceptions in Python?**  \n",
        "**Answer:** Multiple exceptions can be handled by listing them in a single except block.\n",
        "\n",
        "**Question 8) What is the purpose of the with statement when handling files in Python?**  \n",
        "**Answer:** The with statement automatically handles file opening and closing, even if errors occur.\n",
        "\n",
        "**Question 9) What is the difference between multithreading and multiprocessing?**  \n",
        "**Answer:** Multithreading runs multiple threads within a single process, while multiprocessing uses separate processes.\n",
        "\n",
        "**Question 10) What are the advantages of using logging in a program?**  \n",
        "**Answer:** Logging helps track program behavior, debug issues, and maintain records of execution.\n",
        "\n",
        "**Question 11) What is memory management in Python?**  \n",
        "**Answer:** Memory management is how Python allocates and frees memory during program execution.\n",
        "\n",
        "**Question 12) What are the basic steps involved in exception handling in Python?**  \n",
        "**Answer:** The basic steps are try (test code), except (handle error), else (no error), and finally (always runs).\n",
        "\n",
        "**Question 13) Why is memory management important in Python?**  \n",
        "**Answer:** Proper memory management prevents leaks and ensures efficient program operation.\n",
        "\n",
        "**Question 14) What is the role of try and except in exception handling?**  \n",
        "**Answer:** Try tests code for errors, and except catches and handles those errors.\n",
        "\n",
        "**Question 15) How does Python's garbage collection system work?**  \n",
        "**Answer:** Python automatically frees memory by tracking object references and cleaning up unused objects.\n",
        "\n",
        "**Question 16) What is the purpose of the else block in exception handling?**  \n",
        "**Answer:** The else block runs only if no exceptions occur in the try block.\n",
        "\n",
        "**Question 17) What are the common logging levels in Python?**  \n",
        "**Answer:** Common levels are DEBUG, INFO, WARNING, ERROR, and CRITICAL.\n",
        "\n",
        "**Question 18) What is the difference between os.fork() and multiprocessing in Python?**  \n",
        "**Answer:** os.fork() is a low-level way to create processes, while multiprocessing is a higher-level, cross-platform module.\n",
        "\n",
        "**Question 19) What is the importance of closing a file in Python?**  \n",
        "**Answer:** Closing files ensures resources are freed and data is properly saved.\n",
        "\n",
        "**Question 20) What is the difference between file.read() and file.readline() in Python?**  \n",
        "**Answer:** file.read() reads the entire file, while file.readline() reads one line at a time.\n",
        "\n",
        "**Question 21) What is the logging module in Python used for?**  \n",
        "**Answer:** The logging module helps track and record events during program execution.\n",
        "\n",
        "**Question 22) What is the os module in Python used for in file handling?**  \n",
        "**Answer:** The os module provides functions for interacting with the operating system, including file operations.\n",
        "\n",
        "**Question 23) What are the challenges associated with memory management in Python?**  \n",
        "**Answer:** Challenges include memory leaks, fragmentation, and garbage collection overhead.\n",
        "\n",
        "**Question 24) How do you raise an exception manually in Python?**  \n",
        "**Answer:** An exception can be raised manually using the raise keyword.\n",
        "\n",
        "**Question 25) Why is it important to use multithreading in certain applications?**  \n",
        "**Answer:** Multithreading improves performance in tasks that involve waiting, like network requests."
      ],
      "metadata": {
        "id": "Plg3hccYYGMG"
      }
    },
    {
      "cell_type": "markdown",
      "source": [
        "**Practical Questions**"
      ],
      "metadata": {
        "id": "yJGevCIRZaQX"
      }
    },
    {
      "cell_type": "markdown",
      "source": [
        "Question 1) How can you open a file for writing in Python and write a string to it?\n",
        "\n",
        "\n"
      ],
      "metadata": {
        "id": "LA1lJg4nZzkN"
      }
    },
    {
      "cell_type": "code",
      "source": [
        "with open('output.txt', 'w') as file:\n",
        "    file.write(\"Hello, World!\")"
      ],
      "metadata": {
        "id": "LyltrqP6Z5OK"
      },
      "execution_count": 4,
      "outputs": []
    },
    {
      "cell_type": "markdown",
      "source": [
        "Question 2) Write a Python program to read the contents of a file and print each line."
      ],
      "metadata": {
        "id": "19ZvDyV-aBaA"
      }
    },
    {
      "cell_type": "code",
      "source": [
        "with open('input.txt', 'r') as file:\n",
        "    for line in file:\n",
        "        print(line.strip())"
      ],
      "metadata": {
        "id": "0cjxgpX9aMR8"
      },
      "execution_count": null,
      "outputs": []
    },
    {
      "cell_type": "markdown",
      "source": [
        "Question 3) How would you handle a case where the file doesn't exist while trying to open it for reading?"
      ],
      "metadata": {
        "id": "n9hA2hcoaNHQ"
      }
    },
    {
      "cell_type": "code",
      "source": [
        "try:\n",
        "    with open('nonexistent.txt', 'r') as file:\n",
        "        content = file.read()\n",
        "except FileNotFoundError:\n",
        "    print(\"File not found!\")"
      ],
      "metadata": {
        "id": "WD-uJ2LuaPSa"
      },
      "execution_count": null,
      "outputs": []
    },
    {
      "cell_type": "markdown",
      "source": [
        "Question 4) Write a Python script that reads from one file and writes its content to another file.\n"
      ],
      "metadata": {
        "id": "IJWDwCPLaRTC"
      }
    },
    {
      "cell_type": "code",
      "source": [
        "with open('source.txt', 'r') as source, open('destination.txt', 'w') as dest:\n",
        "    dest.write(source.read())"
      ],
      "metadata": {
        "id": "she6ovXkaUpW"
      },
      "execution_count": null,
      "outputs": []
    },
    {
      "cell_type": "markdown",
      "source": [
        "Question 5) How would you catch and handle division by zero error in Python?"
      ],
      "metadata": {
        "id": "8dNN8T85aW1n"
      }
    },
    {
      "cell_type": "code",
      "source": [
        "try:\n",
        "    result = 10 / 0\n",
        "except ZeroDivisionError:\n",
        "    print(\"Cannot divide by zero!\")"
      ],
      "metadata": {
        "colab": {
          "base_uri": "https://localhost:8080/"
        },
        "id": "cAE_l5UfaZLm",
        "outputId": "f3ad039c-6ed3-45c8-c7e4-a12c9161075d"
      },
      "execution_count": 6,
      "outputs": [
        {
          "output_type": "stream",
          "name": "stdout",
          "text": [
            "Cannot divide by zero!\n"
          ]
        }
      ]
    },
    {
      "cell_type": "markdown",
      "source": [
        "Question 6) Write a Python program that logs an error message to a log file when a division by zero exception occurs."
      ],
      "metadata": {
        "id": "mqeGdkf1adsa"
      }
    },
    {
      "cell_type": "code",
      "source": [
        "import logging\n",
        "\n",
        "logging.basicConfig(filename='errors.log', level=logging.ERROR)\n",
        "try:\n",
        "    result = 10 / 0\n",
        "except ZeroDivisionError:\n",
        "    logging.error(\"Division by zero attempted\")"
      ],
      "metadata": {
        "id": "RLG2u044agB0"
      },
      "execution_count": null,
      "outputs": []
    },
    {
      "cell_type": "markdown",
      "source": [
        "Question 7) How do you log information at different levels (INFO, ERROR, WARNING) in Python using the logging module?"
      ],
      "metadata": {
        "id": "1ud-iNWLaip3"
      }
    },
    {
      "cell_type": "code",
      "source": [
        "import logging\n",
        "\n",
        "logging.basicConfig(level=logging.INFO)\n",
        "logging.info(\"This is an info message\")\n",
        "logging.warning(\"This is a warning\")\n",
        "logging.error(\"This is an error\")"
      ],
      "metadata": {
        "colab": {
          "base_uri": "https://localhost:8080/"
        },
        "id": "un-eBMwYalYv",
        "outputId": "82bda815-a8d2-4e80-d2a0-e1edb85d16e5"
      },
      "execution_count": 7,
      "outputs": [
        {
          "output_type": "stream",
          "name": "stderr",
          "text": [
            "WARNING:root:This is a warning\n",
            "ERROR:root:This is an error\n"
          ]
        }
      ]
    },
    {
      "cell_type": "markdown",
      "source": [
        "Question 8) Write a program to handle a file opening error using exception handling.\n"
      ],
      "metadata": {
        "id": "cjTf0lqzanVo"
      }
    },
    {
      "cell_type": "code",
      "source": [
        "try:\n",
        "    with open('missing.txt', 'r') as file:\n",
        "        content = file.read()\n",
        "except IOError as e:\n",
        "    print(f\"Error opening file: {e}\")"
      ],
      "metadata": {
        "colab": {
          "base_uri": "https://localhost:8080/"
        },
        "id": "4VDmFl4jaqI5",
        "outputId": "4a2d8633-5f57-4d99-ad04-e2cc0fdd1aee"
      },
      "execution_count": 8,
      "outputs": [
        {
          "output_type": "stream",
          "name": "stdout",
          "text": [
            "Error opening file: [Errno 2] No such file or directory: 'missing.txt'\n"
          ]
        }
      ]
    },
    {
      "cell_type": "markdown",
      "source": [
        "Question 9) How can you read a file line by line and store its content in a list in Python?\n"
      ],
      "metadata": {
        "id": "9gFw001Zaxe3"
      }
    },
    {
      "cell_type": "code",
      "source": [
        "with open('data.txt', 'r') as file:\n",
        "    lines = file.readlines()"
      ],
      "metadata": {
        "id": "oRzfmQyJazbi"
      },
      "execution_count": null,
      "outputs": []
    },
    {
      "cell_type": "markdown",
      "source": [],
      "metadata": {
        "id": "j7fGrFjPasFd"
      }
    },
    {
      "cell_type": "markdown",
      "source": [
        "Question 10) How can you append data to an existing file in Python?\n"
      ],
      "metadata": {
        "id": "kE5c2wmja2tS"
      }
    },
    {
      "cell_type": "code",
      "source": [
        "with open('log.txt', 'a') as file:\n",
        "    file.write(\"New log entry\\n\")"
      ],
      "metadata": {
        "id": "kDGEp7xpa4-A"
      },
      "execution_count": null,
      "outputs": []
    },
    {
      "cell_type": "markdown",
      "source": [
        "Question 11) Write a Python program that uses a try-except block to handle an error when attempting to access a dictionary key that doesn't exist."
      ],
      "metadata": {
        "id": "J_cDys46bLxl"
      }
    },
    {
      "cell_type": "code",
      "source": [
        "my_dict = {'a': 1, 'b': 2}\n",
        "try:\n",
        "    value = my_dict['c']\n",
        "except KeyError:\n",
        "    print(\"Key not found in dictionary\")"
      ],
      "metadata": {
        "colab": {
          "base_uri": "https://localhost:8080/"
        },
        "id": "2ybSb6BWbOJI",
        "outputId": "7a97157b-8836-47c9-edfd-749478ed7a1f"
      },
      "execution_count": 9,
      "outputs": [
        {
          "output_type": "stream",
          "name": "stdout",
          "text": [
            "Key not found in dictionary\n"
          ]
        }
      ]
    },
    {
      "cell_type": "markdown",
      "source": [
        "Question 12) Write a program that demonstrates using multiple except blocks to handle different types of exceptions."
      ],
      "metadata": {
        "id": "WaPL3Y2cbpnv"
      }
    },
    {
      "cell_type": "code",
      "source": [
        "try:\n",
        "    result = 10 / 0\n",
        "    value = my_dict['missing']\n",
        "except ZeroDivisionError:\n",
        "    print(\"Division by zero\")\n",
        "except KeyError:\n",
        "    print(\"Key not found\")\n",
        "except Exception as e:\n",
        "    print(f\"Other error: {e}\")"
      ],
      "metadata": {
        "colab": {
          "base_uri": "https://localhost:8080/"
        },
        "id": "60apV9twbtcU",
        "outputId": "108b9710-9998-4b6a-d7da-30d564fabea5"
      },
      "execution_count": 10,
      "outputs": [
        {
          "output_type": "stream",
          "name": "stdout",
          "text": [
            "Division by zero\n"
          ]
        }
      ]
    },
    {
      "cell_type": "markdown",
      "source": [
        "Question 13) How would you check if a file exists before attempting to read it in Python?\n"
      ],
      "metadata": {
        "id": "Qdy5CMhpb3Oe"
      }
    },
    {
      "cell_type": "code",
      "source": [
        "import os\n",
        "if os.path.exists('file.txt'):\n",
        "    with open('file.txt', 'r') as file:\n",
        "        content = file.read()\n",
        "else:\n",
        "    print(\"File doesn't exist\")"
      ],
      "metadata": {
        "colab": {
          "base_uri": "https://localhost:8080/"
        },
        "id": "I4HK0AXDb6UU",
        "outputId": "9a885994-c3d8-4711-c7c6-aeefceb155db"
      },
      "execution_count": 11,
      "outputs": [
        {
          "output_type": "stream",
          "name": "stdout",
          "text": [
            "File doesn't exist\n"
          ]
        }
      ]
    },
    {
      "cell_type": "markdown",
      "source": [
        "Question 14) Write a program that uses the logging module to log both informational and error messages."
      ],
      "metadata": {
        "id": "e05jauq-b9kH"
      }
    },
    {
      "cell_type": "code",
      "source": [
        "import logging\n",
        "\n",
        "logging.basicConfig(filename='app.log', level=logging.INFO)\n",
        "logging.info(\"Program started\")\n",
        "try:\n",
        "    result = 10 / 0\n",
        "except ZeroDivisionError:\n",
        "    logging.error(\"Division by zero occurred\")"
      ],
      "metadata": {
        "colab": {
          "base_uri": "https://localhost:8080/"
        },
        "id": "wnkJrCNpcAHA",
        "outputId": "2121fd28-f8a5-4ceb-fcee-b8acace90233"
      },
      "execution_count": 12,
      "outputs": [
        {
          "output_type": "stream",
          "name": "stderr",
          "text": [
            "ERROR:root:Division by zero occurred\n"
          ]
        }
      ]
    },
    {
      "cell_type": "markdown",
      "source": [
        "Question 15) Write a Python program that prints the content of a file and handles the case when the file is empty.\n"
      ],
      "metadata": {
        "id": "K5THWk50cCcM"
      }
    },
    {
      "cell_type": "code",
      "source": [
        "with open('data.txt', 'r') as file:\n",
        "    content = file.read()\n",
        "    if not content:\n",
        "        print(\"File is empty\")\n",
        "    else:\n",
        "        print(content)"
      ],
      "metadata": {
        "id": "1pe9bwHDcIgU"
      },
      "execution_count": null,
      "outputs": []
    },
    {
      "cell_type": "markdown",
      "source": [
        "Question 16) Demonstrate how to use memory profiling to check the memory usage of a small program.\n"
      ],
      "metadata": {
        "id": "Sa9PQAbxcJJU"
      }
    },
    {
      "cell_type": "code",
      "source": [
        "from memory_profiler import profile\n",
        "\n",
        "@profile\n",
        "def my_function():\n",
        "    data = [i for i in range(10000)]\n",
        "    return sum(data)\n",
        "\n",
        "my_function()"
      ],
      "metadata": {
        "id": "DeZ3R6PdcNLM"
      },
      "execution_count": null,
      "outputs": []
    },
    {
      "cell_type": "markdown",
      "source": [
        "Question 17) Write a Python program to create and write a list of numbers to a file, one number per line.\n"
      ],
      "metadata": {
        "id": "s6yqyvrucP4w"
      }
    },
    {
      "cell_type": "code",
      "source": [
        "numbers = [1, 2, 3, 4, 5]\n",
        "with open('numbers.txt', 'w') as file:\n",
        "    for num in numbers:\n",
        "        file.write(f\"{num}\\n\")"
      ],
      "metadata": {
        "id": "Jf_nnjprcSNM"
      },
      "execution_count": 14,
      "outputs": []
    },
    {
      "cell_type": "markdown",
      "source": [
        "Question 18) How would you implement a basic logging setup that logs to a file with rotation after 1MB?\n"
      ],
      "metadata": {
        "id": "_CyF9XlGcUrE"
      }
    },
    {
      "cell_type": "code",
      "source": [
        "import logging\n",
        "from logging.handlers import RotatingFileHandler\n",
        "\n",
        "handler = RotatingFileHandler('app.log', maxBytes=1e6, backupCount=5)\n",
        "logging.basicConfig(handlers=[handler], level=logging.INFO)"
      ],
      "metadata": {
        "id": "Ohln6VTMcWcn"
      },
      "execution_count": 15,
      "outputs": []
    },
    {
      "cell_type": "markdown",
      "source": [
        "Question 19) Write a program that handles both IndexError and KeyError using a try-except block.\n"
      ],
      "metadata": {
        "id": "HZYID7tPcZTd"
      }
    },
    {
      "cell_type": "code",
      "source": [
        "try:\n",
        "    my_list = [1, 2, 3]\n",
        "    print(my_list[5])\n",
        "    my_dict = {'a': 1}\n",
        "    print(my_dict['b'])\n",
        "except IndexError:\n",
        "    print(\"List index out of range\")\n",
        "except KeyError:\n",
        "    print(\"Dictionary key not found\")"
      ],
      "metadata": {
        "colab": {
          "base_uri": "https://localhost:8080/"
        },
        "id": "xksxjbG5cbQg",
        "outputId": "34916652-c92e-4545-f837-e7d08b3bb142"
      },
      "execution_count": 16,
      "outputs": [
        {
          "output_type": "stream",
          "name": "stdout",
          "text": [
            "List index out of range\n"
          ]
        }
      ]
    },
    {
      "cell_type": "markdown",
      "source": [
        "Question 20) How would you open a file and read its contents using a context manager in Python?\n"
      ],
      "metadata": {
        "id": "8Jiqpt9Rcdly"
      }
    },
    {
      "cell_type": "code",
      "source": [
        "with open('data.txt', 'r') as file:\n",
        "    content = file.read()\n",
        "    print(content)"
      ],
      "metadata": {
        "id": "WYh9PboYciFN"
      },
      "execution_count": null,
      "outputs": []
    },
    {
      "cell_type": "markdown",
      "source": [
        "Question 21) Write a Python program that reads a file and prints the number of occurrences of a specific word."
      ],
      "metadata": {
        "id": "djEuuhrbcir1"
      }
    },
    {
      "cell_type": "code",
      "source": [
        "word_to_count = \"Python\"\n",
        "count = 0\n",
        "with open('text.txt', 'r') as file:\n",
        "    for line in file:\n",
        "        count += line.lower().count(word_to_count.lower())\n",
        "print(f\"'{word_to_count}' appears {count} times\")"
      ],
      "metadata": {
        "id": "20NitGHOcoHH"
      },
      "execution_count": null,
      "outputs": []
    },
    {
      "cell_type": "markdown",
      "source": [
        "Question 22) How can you check if a file is empty before attempting to read its contents?\n"
      ],
      "metadata": {
        "id": "z7ohFqczcosU"
      }
    },
    {
      "cell_type": "code",
      "source": [
        "import os\n",
        "if os.path.getsize('data.txt') == 0:\n",
        "    print(\"File is empty\")\n",
        "else:\n",
        "    with open('data.txt', 'r') as file:\n",
        "        content = file.read()"
      ],
      "metadata": {
        "id": "mpW-J6sUcu24"
      },
      "execution_count": null,
      "outputs": []
    },
    {
      "cell_type": "markdown",
      "source": [
        "Question 23) Write a Python program that writes to a log file when an error occurs during file handling.\n"
      ],
      "metadata": {
        "id": "wanqpF4Tcvrl"
      }
    },
    {
      "cell_type": "code",
      "source": [
        "import logging\n",
        "\n",
        "logging.basicConfig(filename='file_errors.log', level=logging.ERROR)\n",
        "try:\n",
        "    with open('missing.txt', 'r') as file:\n",
        "        content = file.read()\n",
        "except IOError as e:\n",
        "    logging.error(f\"File handling error: {e}\")"
      ],
      "metadata": {
        "id": "sfk4xEdOcxiU"
      },
      "execution_count": null,
      "outputs": []
    }
  ]
}